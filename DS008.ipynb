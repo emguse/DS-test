{
 "cells": [
  {
   "cell_type": "markdown",
   "metadata": {},
   "source": [
    "### DS8\n",
    "\n",
    "nominal scale, ordinal scale, interval scale, ratio scale"
   ]
  },
  {
   "cell_type": "markdown",
   "metadata": {},
   "source": [
    "### DS8\n",
    "\n",
    "名義尺度、順序尺度、間隔尺度、比例尺度"
   ]
  },
  {
   "cell_type": "markdown",
   "metadata": {},
   "source": [
    "#### 量的データ\n",
    "<dl>\n",
    "    <dt>量的データ</dt>\n",
    "        <dd>数値自体に意味があり、足し算や引き算ができるデータ</dd>\n",
    "        <dd>比例尺度と間隔尺度がある</dd>\n",
    "        <dd>平均値やさまざまな統計量が使用できる</dd>\n",
    "    <dt>比例尺度</dt>\n",
    "        <dd>長さや絶対温度、質量などの物理量や、価格など、絶対的なゼロ点をもつデータの尺度</dd>\n",
    "        <dd>平均値や倍率を求めることができる</dd>\n",
    "    <dt>間隔尺度</dt>\n",
    "        <dd>絶対的なゼロ点を持たない（たとえば0℃は温度が消失するわけではない）</dd>\n",
    "        <dd>倍率の計算はできない（20℃が10℃より2倍暑いわけではない）</dd>\n",
    "</dl>\n"
   ]
  },
  {
   "cell_type": "markdown",
   "metadata": {},
   "source": [
    "#### 質的データ\n",
    "<dl>\n",
    "    <dt>質的データ</dt>\n",
    "        <dd>分類や種類を区分するラベルとしてのデータ</dd>\n",
    "        <dd>順序尺度と名義尺度がある</dd>\n",
    "        <dd>和、差、平均などの計算は意味をなさない</dd>\n",
    "    <dt>順序尺度</dt>\n",
    "        <dd>等級や満足度など大小の比較のみ可能なデータ</dd>\n",
    "        <dd>データの間隔が明確でないため通常は平均値は意味を持たない</dd>\n",
    "    <dt>名義尺度</dt>\n",
    "        <dd>子供を0大人を1のように内容を区別するためだけに数値が与えられているデータ</dd>\n",
    "        <dd>等号で比較可能</dd>\n",
    "</dl>\n"
   ]
  },
  {
   "cell_type": "markdown",
   "metadata": {},
   "source": [
    "- 尺度により使用可能な統計手法が違うので注意する。"
   ]
  }
 ],
 "metadata": {
  "interpreter": {
   "hash": "494b33afd61b71e58c5624a5377412cd33492be7501fa40bdeba7234c2a95634"
  },
  "kernelspec": {
   "display_name": "Python 3.9.12 ('myenv': venv)",
   "language": "python",
   "name": "python3"
  },
  "language_info": {
   "name": "python",
   "version": "3.9.12"
  },
  "orig_nbformat": 4
 },
 "nbformat": 4,
 "nbformat_minor": 2
}
