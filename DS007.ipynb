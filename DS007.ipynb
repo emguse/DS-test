{
 "cells": [
  {
   "cell_type": "markdown",
   "metadata": {},
   "source": [
    "### DS7\n",
    "\n",
    "Correlation and Causation"
   ]
  },
  {
   "cell_type": "markdown",
   "metadata": {},
   "source": [
    "### DS7\n",
    "\n",
    "相関関係と因果関係"
   ]
  },
  {
   "cell_type": "markdown",
   "metadata": {},
   "source": [
    "\n",
    "<dl>\n",
    "    <dt>相関関係</dt>\n",
    "        <dd>片方が変化した場合もう片方も変化する関係</dd>\n",
    "    <dt>因果関係</dt>\n",
    "        <dd>2つ以上の物事が原因と結果の関係になっている</dd>\n",
    "</dl>\n"
   ]
  },
  {
   "cell_type": "markdown",
   "metadata": {},
   "source": [
    "相関関係と因果関係が考えられる例\n",
    "\n",
    "気温　<->　アイスクリーム売上\n",
    "\n",
    "この2つの間に相関関係が生じた場合、気温の上昇に伴いアイスクリームの売上が上昇したという因果関係を考えることができる。"
   ]
  },
  {
   "cell_type": "markdown",
   "metadata": {},
   "source": [
    "相関関係があり因果関係は考えられない例\n",
    "\n",
    "アイスクリーム売上　<->　熱中症患者数\n",
    "\n",
    "これらの2つには、たとえ相関関係があっても、因果関係は無いかもしれない。\n",
    "\n",
    "これらの要因には気温という共通の因子が考えられるためである。\n",
    "\n",
    "このように2つの物事に相関が生じたとしても因果関係がない場合、この相関関係を疑似相関と呼ぶ。"
   ]
  },
  {
   "cell_type": "markdown",
   "metadata": {},
   "source": [
    "早起きと年収に正の相関がある場合、「早起きをすれば年収が上がる」と考えるのは短絡的である可能性があり、\n",
    "\n",
    "- 「年収の高い職業は早起きしなければならない職業が多い」というように因果関係が逆である可能性\n",
    "- 「年齢が高いほど年収が多く、早起きをする人が多い」という外部因子が隠れている可能性\n",
    "\n",
    "などが考えられる。"
   ]
  }
 ],
 "metadata": {
  "interpreter": {
   "hash": "494b33afd61b71e58c5624a5377412cd33492be7501fa40bdeba7234c2a95634"
  },
  "kernelspec": {
   "display_name": "Python 3.9.12 ('myenv': venv)",
   "language": "python",
   "name": "python3"
  },
  "language_info": {
   "name": "python",
   "version": "3.9.12"
  },
  "orig_nbformat": 4
 },
 "nbformat": 4,
 "nbformat_minor": 2
}
