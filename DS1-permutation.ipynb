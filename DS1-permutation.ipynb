{
 "cells": [
  {
   "cell_type": "markdown",
   "metadata": {},
   "source": [
    "\n",
    "### DS1\n"
   ]
  },
  {
   "cell_type": "markdown",
   "metadata": {},
   "source": [
    "permutation\n",
    "\n",
    "The formula for nPr is\n",
    "$$ {}_n P_r = \\frac{n!}{(n - r)!} = n \\times (n - 1) \\times \\ldots \\times (n - r + 1) $$\n",
    "\n",
    "\n",
    "When 3 cards are selected from 5 cards and arranged in a row [1, 2, 3, 4, 5]\n",
    "$$ {}_5 P_3 = \\frac{5!}{(5 - 3)!} = 5 \\times (5 - 1) \\times (5 - 3 + 2) = 60 $$"
   ]
  },
  {
   "cell_type": "markdown",
   "metadata": {},
   "source": [
    "Permutation with redundancy\n",
    "\n",
    "H(n,r)\n",
    "\n",
    "1. Items taken out once can be taken out again.\n",
    "1. The order in which they are taken out is meaningless. (Even if the elements that make up a pair are the same, if they are in a different order, they are treated as different.)"
   ]
  },
  {
   "cell_type": "code",
   "execution_count": null,
   "metadata": {},
   "outputs": [],
   "source": [
    "data = [1, 2, 3, 4, 5]\n",
    "\n",
    "ans = []\n",
    "for i in data:\n",
    "    for j in data:\n",
    "        for k in data:\n",
    "            ans.append([i, j, k])\n",
    "\n",
    "len(ans)"
   ]
  },
  {
   "cell_type": "code",
   "execution_count": null,
   "metadata": {},
   "outputs": [],
   "source": [
    "import itertools\n",
    "\n",
    "data = [1, 2, 3, 4, 5]\n",
    "ans = list(itertools.product(data, repeat=3))\n",
    "len(ans)"
   ]
  },
  {
   "cell_type": "markdown",
   "metadata": {},
   "source": [
    "Permutations\n",
    "\n",
    "P(n,r)\n",
    "\n",
    "1. Once something is taken out, it cannot be taken out again.\n",
    "1. The order in which they are taken out generates meaning (Even if the elements that make up a pair are the same, if they are in a different order, they are treated as different.)"
   ]
  },
  {
   "cell_type": "code",
   "execution_count": null,
   "metadata": {},
   "outputs": [],
   "source": [
    "def list_excluded_indices(data, indices):\n",
    "    return [x for i, x in enumerate(data) if i not in indices]\n",
    "\n",
    "data = [1, 2, 3, 4, 5]\n",
    "\n",
    "ans = []\n",
    "for i in range(len(data)):\n",
    "    for j in range(len(data) - 1):\n",
    "        for k in range(len(data) - 2):\n",
    "            jData = list_excluded_indices(data, [i])\n",
    "            kData = list_excluded_indices(jData, [j])\n",
    "            ans.append([data[i], jData[j], kData[k]])\n",
    "\n",
    "len(ans)"
   ]
  },
  {
   "cell_type": "code",
   "execution_count": null,
   "metadata": {},
   "outputs": [],
   "source": [
    "import itertools\n",
    "\n",
    "data = [1, 2, 3, 4, 5]\n",
    "ans = list(itertools.permutations(data, r=3))\n",
    "len(ans)"
   ]
  },
  {
   "cell_type": "markdown",
   "metadata": {},
   "source": [
    "Combination\n",
    "\n",
    "$$ {}_n C_r = \\frac{n!}{r!(n - r)!} = \\frac{{}_n P_r}{r!} $$\n",
    "\n",
    "$$ {}_5 C_3 = \\frac{5!}{3!(5 - 3)!} = \\frac{{}_5 P_3}{3!} = 10 $$"
   ]
  },
  {
   "cell_type": "markdown",
   "metadata": {},
   "source": [
    "Combination with replacement\n",
    "\n",
    "Π(n,r)\n",
    "\n",
    "1. Items taken out once can be taken out again.\n",
    "1. The order in which they are taken out is meaningless. (Even if the elements that make up a pair are the same, if they are in a different order, they are treated as different.)"
   ]
  },
  {
   "cell_type": "code",
   "execution_count": null,
   "metadata": {},
   "outputs": [],
   "source": [
    "data = [1, 2, 3, 4, 5]\n",
    "\n",
    "ans = []\n",
    "for i in range(len(data)):\n",
    "    for j in range(i, len(data)):\n",
    "        for k in range(j, len(data)):\n",
    "            ans.append([data[i], data[j], data[k]])\n",
    "\n",
    "len(ans)"
   ]
  },
  {
   "cell_type": "code",
   "execution_count": null,
   "metadata": {},
   "outputs": [],
   "source": [
    "import itertools\n",
    "\n",
    "data = [1, 2, 3, 4, 5]\n",
    "ans = list(itertools.combinations_with_replacement(data, r=3))\n",
    "\n",
    "len(ans)"
   ]
  },
  {
   "cell_type": "markdown",
   "metadata": {},
   "source": [
    "Combination\n",
    "\n",
    "C(n,r)\n",
    "\n",
    "1. Once something is taken out, it cannot be taken out again.\n",
    "1. The order in which they are taken out generates meaning (Even if the elements that make up a pair are the same, if they are in a different order, they are treated as different.)"
   ]
  },
  {
   "cell_type": "code",
   "execution_count": null,
   "metadata": {},
   "outputs": [],
   "source": [
    "def list_excluded_indices(data, indices):\n",
    "    return [x for i, x in enumerate(data) if i not in indices]\n",
    "\n",
    "data = [1, 2, 3, 4, 5]\n",
    "\n",
    "ans = []\n",
    "for i in range(len(data)):\n",
    "  for j in range(i, len(data) - 1):\n",
    "    for k in range(j, len(data) - 2):\n",
    "      jData = list_excluded_indices(data, [i])\n",
    "      kData = list_excluded_indices(jData, [j])\n",
    "      ans.append([data[i], jData[j], kData[k]])\n",
    "\n",
    "len(ans)"
   ]
  },
  {
   "cell_type": "code",
   "execution_count": null,
   "metadata": {},
   "outputs": [],
   "source": [
    "import itertools\n",
    "\n",
    "data = [1, 2, 3, 4, 5]\n",
    "ans = list(itertools.combinations(data, r=3))\n",
    "\n",
    "len(ans)"
   ]
  }
 ],
 "metadata": {
  "interpreter": {
   "hash": "20c504f4b3774a616bfa16d99f61473eb194c802df355cf76e2a09ab12090933"
  },
  "kernelspec": {
   "display_name": "Python 3.9.7 ('myenv': venv)",
   "language": "python",
   "name": "python3"
  },
  "language_info": {
   "codemirror_mode": {
    "name": "ipython",
    "version": 3
   },
   "file_extension": ".py",
   "mimetype": "text/x-python",
   "name": "python",
   "nbconvert_exporter": "python",
   "pygments_lexer": "ipython3",
   "version": "3.9.7"
  },
  "orig_nbformat": 4
 },
 "nbformat": 4,
 "nbformat_minor": 2
}
