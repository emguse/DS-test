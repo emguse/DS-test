{
 "cells": [
  {
   "cell_type": "markdown",
   "metadata": {},
   "source": [
    "### DS3\n",
    "Mean, median, mode"
   ]
  },
  {
   "cell_type": "markdown",
   "metadata": {},
   "source": [
    "### DS3\n",
    "平均（相加平均）、中央値、最頻値"
   ]
  },
  {
   "cell_type": "markdown",
   "metadata": {},
   "source": [
    "Mean (additive mean)\n",
    "\n",
    "The value obtained by adding all data and dividing by the number of data"
   ]
  },
  {
   "cell_type": "markdown",
   "metadata": {},
   "source": [
    "平均（相加平均）\n",
    "\n",
    "すべてのデータを足してデータの個数で割った値"
   ]
  },
  {
   "cell_type": "code",
   "execution_count": 12,
   "metadata": {},
   "outputs": [
    {
     "data": {
      "text/plain": [
       "5.8"
      ]
     },
     "execution_count": 12,
     "metadata": {},
     "output_type": "execute_result"
    }
   ],
   "source": [
    "data = [2,3,5,9,10]\n",
    "\n",
    "sum(data)/len(data)"
   ]
  },
  {
   "cell_type": "code",
   "execution_count": 13,
   "metadata": {},
   "outputs": [
    {
     "data": {
      "text/plain": [
       "5.8"
      ]
     },
     "execution_count": 13,
     "metadata": {},
     "output_type": "execute_result"
    }
   ],
   "source": [
    "from statistics import mean\n",
    "\n",
    "data = [2,3,5,9,10]\n",
    "\n",
    "mean(data)"
   ]
  },
  {
   "cell_type": "markdown",
   "metadata": {},
   "source": [
    "Median\n",
    "\n",
    "The value that comes to the center when the data are sorted in order of size"
   ]
  },
  {
   "cell_type": "markdown",
   "metadata": {},
   "source": [
    "中央値\n",
    "\n",
    "データを大きさ順に並べたときに中央に来る値"
   ]
  },
  {
   "cell_type": "code",
   "execution_count": null,
   "metadata": {},
   "outputs": [
    {
     "name": "stdout",
     "output_type": "stream",
     "text": [
      "median:  5\n"
     ]
    }
   ],
   "source": [
    "data = [2, 3, 5, 7, 9]\n",
    "n = len(data)\n",
    "\n",
    "if n % 2 == 0:\n",
    "    median1 = n / 2\n",
    "    median2 = n / 2 + 1\n",
    "    median1 = int(median1) - 1\n",
    "    median2 = int(median2) - 1\n",
    "    median = (data[median1] + data[median2]) / 2\n",
    "    print('median: ', median)\n",
    "else:\n",
    "    median = (n + 1) / 2\n",
    "    median = int(median) - 1\n",
    "    median = data[median]\n",
    "    print('median: ', median)"
   ]
  },
  {
   "cell_type": "code",
   "execution_count": null,
   "metadata": {},
   "outputs": [
    {
     "data": {
      "text/plain": [
       "5"
      ]
     },
     "execution_count": 4,
     "metadata": {},
     "output_type": "execute_result"
    }
   ],
   "source": [
    "from statistics import median\n",
    "\n",
    "data = [2,3,5,7,9]\n",
    "median(data)"
   ]
  },
  {
   "cell_type": "code",
   "execution_count": null,
   "metadata": {},
   "outputs": [
    {
     "name": "stdout",
     "output_type": "stream",
     "text": [
      "490 500.0 500 58777.77777777778 242.44128727957576\n"
     ]
    }
   ],
   "source": [
    "from statistics import mean, median, mode, variance, stdev\n",
    "\n",
    "data = [100,200,300,400,500,500,600,700,800,800]\n",
    "\n",
    "mean = mean(data)\n",
    "median = median(data)\n",
    "mode = mode(data)\n",
    "variance = variance(data)\n",
    "stdev = stdev(data)\n",
    "\n",
    "print(mean, median, mode, variance, stdev)"
   ]
  }
 ],
 "metadata": {
  "interpreter": {
   "hash": "aee8b7b246df8f9039afb4144a1f6fd8d2ca17a180786b69acc140d282b71a49"
  },
  "kernelspec": {
   "display_name": "Python 3.9.12 64-bit",
   "language": "python",
   "name": "python3"
  },
  "language_info": {
   "codemirror_mode": {
    "name": "ipython",
    "version": 3
   },
   "file_extension": ".py",
   "mimetype": "text/x-python",
   "name": "python",
   "nbconvert_exporter": "python",
   "pygments_lexer": "ipython3",
   "version": "3.9.12"
  },
  "orig_nbformat": 4
 },
 "nbformat": 4,
 "nbformat_minor": 2
}
