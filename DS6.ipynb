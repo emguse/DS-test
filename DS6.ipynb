{
 "cells": [
  {
   "cell_type": "markdown",
   "metadata": {},
   "source": [
    "### DS6\n",
    "\n",
    "Variance and mean of the standard normal distribution"
   ]
  },
  {
   "cell_type": "markdown",
   "metadata": {},
   "source": [
    "### DS6\n",
    "\n",
    "標準正規分布の分散と平均\n",
    "\n",
    "\n",
    "正規分布とは次の式で表される連続型確率分布である。\n",
    "\n",
    "$$ f(x) = \\frac{1}{\\sqrt{2\\pi\\sigma^2}}exp\\left(-\\frac{(x-\\mu)^2}{2\\sigma^2}\\right) $$\n",
    "\n",
    "\n",
    "標準正規分布とは平均が0、分散が1の正規分布である。\n",
    "\n",
    "\n",
    "正規分布の標準化とは正規分布に従う確率変数$X$に対して次の計算を行うことであり、この変換で得られたかくりつへんすう$Z$は標準正規分布に従う。\n",
    "\n",
    "$$ Z = \\frac{(X-\\mu)}{\\sigma} $$\n",
    "\n",
    "ここで\n",
    "$$ \\mu : Xの平均 $$\n",
    "$$ \\sigma : Xの標準偏差 $$\n"
   ]
  },
  {
   "cell_type": "code",
   "execution_count": 67,
   "metadata": {},
   "outputs": [
    {
     "name": "stdout",
     "output_type": "stream",
     "text": [
      "5.355201690576289\n",
      "170.8899871982595\n",
      "            tall\n",
      "0     170.759310\n",
      "1     164.952428\n",
      "2     173.264441\n",
      "3     173.174651\n",
      "4     177.615608\n",
      "...          ...\n",
      "1194  165.171428\n",
      "1195  178.497053\n",
      "1196  174.546360\n",
      "1197  164.455802\n",
      "1198  170.352247\n",
      "\n",
      "[1199 rows x 1 columns]\n",
      "            tall\n",
      "23    181.362336\n",
      "30    184.494147\n",
      "39    180.433414\n",
      "46    181.065699\n",
      "60    181.211891\n",
      "63    180.087487\n",
      "75    181.984123\n",
      "114   185.047153\n",
      "158   180.903389\n",
      "186   182.579937\n",
      "204   180.836427\n",
      "220   181.694393\n",
      "252   180.939395\n",
      "259   181.390717\n",
      "276   184.187432\n",
      "337   180.950223\n",
      "346   180.609673\n",
      "389   185.625529\n",
      "409   181.560616\n",
      "436   181.276983\n",
      "464   181.504328\n",
      "475   183.728427\n",
      "485   180.171350\n",
      "490   180.015003\n",
      "506   180.780127\n",
      "514   184.493147\n",
      "537   182.137467\n",
      "545   182.891570\n",
      "564   183.611170\n",
      "581   180.095846\n",
      "582   182.235216\n",
      "626   182.124283\n",
      "681   183.708202\n",
      "716   184.543375\n",
      "718   181.923890\n",
      "744   180.495873\n",
      "784   183.994588\n",
      "846   180.526733\n",
      "856   180.703744\n",
      "860   181.352735\n",
      "861   180.119745\n",
      "862   182.430000\n",
      "888   185.596490\n",
      "914   180.127126\n",
      "968   181.182605\n",
      "1007  183.852614\n",
      "1077  181.109392\n",
      "1079  180.397879\n",
      "1133  181.269827\n",
      "1187  181.654541\n",
      "1189  180.175732\n"
     ]
    },
    {
     "data": {
      "image/png": "[encoded data removed]",
      "text/plain": [
       "<Figure size 432x288 with 1 Axes>"
      ]
     },
     "metadata": {
      "needs_background": "light"
     },
     "output_type": "display_data"
    }
   ],
   "source": [
    "import os\n",
    "import pandas as pd\n",
    "import matplotlib.pyplot as plt\n",
    "\n",
    "data_dir = './data/'\n",
    "path = os.path.join(data_dir, 'R2_Female_17_tall.csv')\n",
    "df = pd.read_csv(path, header=None)\n",
    "\n",
    "df.plot(kind='hist')\n",
    "\n",
    "print(df[0].std())\n",
    "print(df[0].mean())\n",
    "\n",
    "df = df.rename(columns={0:'tall'})\n",
    "\n",
    "print(df)\n",
    "\n",
    "high = df.query('tall >= 180')\n",
    "\n",
    "print(high)"
   ]
  }
 ],
 "metadata": {
  "interpreter": {
   "hash": "494b33afd61b71e58c5624a5377412cd33492be7501fa40bdeba7234c2a95634"
  },
  "kernelspec": {
   "display_name": "Python 3.9.12 ('myenv': venv)",
   "language": "python",
   "name": "python3"
  },
  "language_info": {
   "codemirror_mode": {
    "name": "ipython",
    "version": 3
   },
   "file_extension": ".py",
   "mimetype": "text/x-python",
   "name": "python",
   "nbconvert_exporter": "python",
   "pygments_lexer": "ipython3",
   "version": "3.9.12"
  },
  "orig_nbformat": 4
 },
 "nbformat": 4,
 "nbformat_minor": 2
}
