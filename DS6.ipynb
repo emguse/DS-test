{
 "cells": [
  {
   "cell_type": "markdown",
   "metadata": {},
   "source": [
    "### DS6\n",
    "\n",
    "Variance and mean of the standard normal distribution"
   ]
  },
  {
   "cell_type": "markdown",
   "metadata": {},
   "source": [
    "### DS6\n",
    "\n",
    "標準正規分布の分散と平均\n",
    "\n",
    "\n",
    "正規分布とは次の式で表される連続型確率分布である。\n",
    "\n",
    "$$ f(x) = \\frac{1}{\\sqrt{2\\pi\\sigma^2}}exp\\left(-\\frac{(x-\\mu)^2}{2\\sigma^2}\\right) $$\n",
    "\n",
    "\n",
    "標準正規分布とは平均が0、分散が1の正規分布である。\n",
    "\n",
    "\n",
    "正規分布の標準化とは正規分布に従う確率変数$X$に対して次の計算を行うことであり、この変換で得られたかくりつへんすう$Z$は標準正規分布に従う。\n",
    "\n",
    "$$ Z = \\frac{(X-\\mu)}{\\sigma} $$\n",
    "\n",
    "ここで\n",
    "$$ \\mu : Xの平均 $$\n",
    "$$ \\sigma : Xの標準偏差 $$\n"
   ]
  },
  {
   "cell_type": "code",
   "execution_count": 45,
   "metadata": {},
   "outputs": [
    {
     "data": {
      "text/plain": [
       "170.759309611539    170.530502\n",
       "dtype: float64"
      ]
     },
     "execution_count": 45,
     "metadata": {},
     "output_type": "execute_result"
    },
    {
     "data": {
      "image/png": "[encoded data removed]",
      "text/plain": [
       "<Figure size 432x288 with 1 Axes>"
      ]
     },
     "metadata": {
      "needs_background": "light"
     },
     "output_type": "display_data"
    }
   ],
   "source": [
    "import os\n",
    "import pandas as pd\n",
    "import matplotlib.pyplot as plt\n",
    "\n",
    "data_dir = './data/'\n",
    "path = os.path.join(data_dir, 'R2_Female_17_tall.csv')\n",
    "df = pd.read_csv(path)\n",
    "\n",
    "df.plot(kind='hist')\n",
    "\n",
    "df.head(3)\n",
    "df.std()\n",
    "df.mean()"
   ]
  }
 ],
 "metadata": {
  "interpreter": {
   "hash": "494b33afd61b71e58c5624a5377412cd33492be7501fa40bdeba7234c2a95634"
  },
  "kernelspec": {
   "display_name": "Python 3.9.12 ('myenv': venv)",
   "language": "python",
   "name": "python3"
  },
  "language_info": {
   "codemirror_mode": {
    "name": "ipython",
    "version": 3
   },
   "file_extension": ".py",
   "mimetype": "text/x-python",
   "name": "python",
   "nbconvert_exporter": "python",
   "pygments_lexer": "ipython3",
   "version": "3.9.12"
  },
  "orig_nbformat": 4
 },
 "nbformat": 4,
 "nbformat_minor": 2
}
