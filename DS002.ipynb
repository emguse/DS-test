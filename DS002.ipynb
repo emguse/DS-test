{
 "cells": [
  {
   "cell_type": "markdown",
   "metadata": {},
   "source": [
    "### DS2\n",
    "Conditional probability"
   ]
  },
  {
   "cell_type": "markdown",
   "metadata": {},
   "source": [
    "### DS2\n",
    "条件付き確率"
   ]
  },
  {
   "cell_type": "markdown",
   "metadata": {},
   "source": [
    "\n",
    "Probability of another event occurring under the conditions under which one event occurs.\n",
    "\n",
    "The probability of another event A occurring under the conditions that event B occurs is denoted as P(A|B).\n",
    "\n",
    "$$ P(A|B) = \\frac{P(A \\cap B)}{P(B)} $$\n",
    "\n",
    "P(A∩B) represents the simultaneous probability of A and B, meaning the probability that A and B occur simultaneously.\n",
    "\n",
    "P(B) represents the probability around B, meaning the probability of B occurring alone."
   ]
  },
  {
   "cell_type": "markdown",
   "metadata": {},
   "source": [
    "ある事象が起こる条件のもとで、別の事象が起こる確率を条件付き確率と言う。\n",
    "\n",
    "事象Bが起こる条件の下で、別の事象Aが起こる確率は、P(A|B)と表す。（右から左に読む）\n",
    "\n",
    "$$ P(A|B) = \\frac{P(A \\cap B)}{P(B)} $$\n",
    "\n",
    "P(A∩B)はAとBの同時確率を表し、AとBが同時に発生する確率を意味する。\n",
    "\n",
    "P(B)はBの周辺確率を表し、Bが単独で起こる場合の確率を意味する。"
   ]
  },
  {
   "cell_type": "markdown",
   "metadata": {},
   "source": [
    "Example, \"If you have a certain gene, how likely are you to get a disease?\"\n",
    "\n",
    "|      |  Get sick A  |  Do not get sick A  |\n",
    "| ---- | ---- | ---- |\n",
    "|  With gene B  |  750  |  250  |\n",
    "|  No gene B  |  250  |  750  |\n",
    "\n",
    "- A1 : Event for disease A\n",
    "- A2 : Events that do not result in disease A\n",
    "- B1 : Events with gene B\n",
    "- B2 : Events without gene B\n",
    "\n",
    "There are 1000 people each with and without disease A, and P(A1) = P(A2) = 1/2.\n",
    "Similarly for gene B, P(B1) = P(B2) = 1/2.\n",
    "\n",
    "In this case, the probability P(A1|B1) of contracting disease A when carrying gene B is calculated as\n",
    "\n",
    "$$ P(A _1 | B _1) = \\frac {P(A _1 \\cap B _1)}{P(B _1)} = \\frac{\\frac{750}{2000}}{\\frac{1000}{2000}} = \\frac{3}{4}"
   ]
  },
  {
   "cell_type": "markdown",
   "metadata": {},
   "source": [
    "例「ある遺伝子を持つ場合どのくらいの確率で病気にかかるか」\n",
    "\n",
    "|      |  病気Aにかかる  |  病気Aにかからない  |\n",
    "| ---- | ---- | ---- |\n",
    "|  遺伝子Bを持つ  |  750人  |  250人  |\n",
    "|  遺伝子Bを持たない  |  250人  |  750人  |\n",
    "\n",
    "- A1 : 病気Aにかかる事象\n",
    "- A2 : 病気Aにかからない事象\n",
    "- B1 : 遺伝子Bを持つ事象\n",
    "- B2 : 遺伝子Bを持たない事象\n",
    "\n",
    "病気Aにかかる人も、かからない人も1000人づつおり、 P(A1) = P(A2) = 1/2 となる。\n",
    "\n",
    "(1000/2000) = (1000/2000) = 1/2\n",
    "\n",
    "遺伝子Bについても同様に、 P(B1) = P(B2) = 1/2 となる。\n",
    "\n",
    "この場合の遺伝子Bを持つときに病気Aにかかる確率 P(A1|B1) を計算すると、\n",
    "\n",
    "$$ P(A _1 | B _1) = \\frac {P(A _1 \\cap B _1)}{P(B _1)} = \\frac{\\frac{750}{2000}}{\\frac{1000}{2000}} = \\frac{3}{4}"
   ]
  },
  {
   "cell_type": "code",
   "execution_count": null,
   "metadata": {},
   "outputs": [],
   "source": [
    "case = 2\n",
    "have_gane_B = [750, 250] # [get_sick_A, do_not_sick_A]\n",
    "not_habe_gene_B = [250, 750] # [get_sick_A, do_not_sick_A]\n",
    "\n",
    "ans = (have_gane_B[0] / (sum(have_gane_B) + sum(not_habe_gene_B)) / (sum(have_gane_B) / (sum(have_gane_B) + sum(not_habe_gene_B))))\n",
    "\n",
    "ans"
   ]
  }
 ],
 "metadata": {
  "interpreter": {
   "hash": "aee8b7b246df8f9039afb4144a1f6fd8d2ca17a180786b69acc140d282b71a49"
  },
  "kernelspec": {
   "display_name": "Python 3.9.12 64-bit",
   "language": "python",
   "name": "python3"
  },
  "language_info": {
   "codemirror_mode": {
    "name": "ipython",
    "version": 3
   },
   "file_extension": ".py",
   "mimetype": "text/x-python",
   "name": "python",
   "nbconvert_exporter": "python",
   "pygments_lexer": "ipython3",
   "version": "3.9.12"
  },
  "orig_nbformat": 4
 },
 "nbformat": 4,
 "nbformat_minor": 2
}
