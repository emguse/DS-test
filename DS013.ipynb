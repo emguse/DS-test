{
 "cells": [
  {
   "cell_type": "markdown",
   "metadata": {},
   "source": [
    "### DS13\n",
    "Bayesian inference theorem"
   ]
  },
  {
   "cell_type": "markdown",
   "metadata": {},
   "source": [
    "### DS13\n",
    "ベイズ推定の定理"
   ]
  },
  {
   "cell_type": "markdown",
   "metadata": {},
   "source": [
    "事象 $A$ が起こったという条件の下で事象 $B$ が起こる条件付確率は、以下の式で計算できる。(DS12参照)\n",
    "\n",
    "$$ P(B|A) = \\frac{P(B) \\cdot P(A|B)}{P(A)} $$\n",
    "\n",
    "ここで\n",
    "\n",
    "$$ P(A) : 事象 A が起こる確率 $$\n",
    "$$ P(B) : 事象 B が起こる確率 $$\n",
    "$$ P(A|B) : 事象 B のもと事象 A が起こる確率 $$\n",
    "\n",
    "これを`ベイズ推定の定理`という。\n",
    "\n",
    "$ P(B|A) $ は、 $ A $ が起こったいう事実を知った後に計算できる確立であるため、`事後確率`と呼ぶ。\n",
    "また、$ P(B) $ を`事前確率`と呼ぶ。\n",
    "\n",
    "ベイズの定理は以下のようにも表現できる。\n",
    "\n",
    "$$ P(B|A) = \\frac{P(B) \\times P(A|B)}{P(B) \\times P(A|B) + P( \\overline{B} ) \\times P(A| \\overline{B} )} $$\n",
    "\n",
    "ここで\n",
    "\n",
    "$$ P( \\overline{B} ) : 事象Bが起こらない確率 $$\n",
    "$$ P( A | \\overline{B} ) : 事象Bが起こらないもと事象Aが起こる確率 $$"
   ]
  },
  {
   "cell_type": "markdown",
   "metadata": {},
   "source": [
    "迷惑メールの確率計算例\n",
    "\n",
    "$$ A : メールに「お得」という文字が書かれているという事象 $$\n",
    "$$ \\overline{A} : メールに「お得」という文字が書かれていないという事象 $$\n",
    "$$ B : 迷惑メールであるという事象 $$\n",
    "$$ \\overline{B} : 迷惑メールでないという事象 $$\n",
    "\n",
    "\n",
    "$ P(B)  = 1/4 $ すべてのメールにおいて、あるメールが迷惑メールである確率\n",
    "\n",
    "$ P(\\overline{B})  = 3/4 $ すべてのメールにおいて、あるメールが迷惑メールである確率\n",
    "\n",
    "$ P(A|B)  = 4/5 $ 迷惑メールに「お得」と書かれてある条件付確率\n",
    "\n",
    "$ P(A|B)  = 1/10 $ 迷惑メールではないが、「お得」と書かれてある条件付確率\n",
    "\n",
    "このとき、メールに「お得」という文字が書かれているという条件のもとで、事後的にそのメールが迷惑メールである確率 $ P(B|A) $ は、以下のように計算できる。\n",
    "\n",
    "$$ P(B|A) = \\frac{(\\frac{1}{4} \\times \\frac{4}{5})}{(\\frac{1}{4} \\times \\frac{4}{5} + \\frac{3}{4} \\times \\frac{1}{10})} = \\frac{8}{11} $$\n",
    "\n",
    "\n",
    "\n",
    "\n",
    "\n"
   ]
  }
 ],
 "metadata": {
  "kernelspec": {
   "display_name": "Python 3.9.7 ('myenv': venv)",
   "language": "python",
   "name": "python3"
  },
  "language_info": {
   "name": "python",
   "version": "3.9.7"
  },
  "orig_nbformat": 4,
  "vscode": {
   "interpreter": {
    "hash": "e1d9319d4576f3c2e762949f9bffd1976ff73bfccd922ee04cb2ff496cee83e1"
   }
  }
 },
 "nbformat": 4,
 "nbformat_minor": 2
}
