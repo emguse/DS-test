{
 "cells": [
  {
   "cell_type": "markdown",
   "metadata": {},
   "source": [
    "### DS12\n",
    "The strength of the relationship can be calculated whether the variables are qualitative or quantitative"
   ]
  },
  {
   "cell_type": "markdown",
   "metadata": {},
   "source": [
    "### DS12\n",
    "\n",
    "変数が質的、量的どちらの場合でも関係の強さを算出できる"
   ]
  },
  {
   "cell_type": "markdown",
   "metadata": {},
   "source": [
    "DS9参照\n",
    "<dl>\n",
    "    <dt>ピアソンの積率相関</dt>\n",
    "        <dd>量的データに対して2つの連続変数の線形関係の強さを示す。</dd>\n",
    "        <dd>最も一般的な相関方法。</dd>\n",
    "    <dt>スピアマンの順位相関</dt>\n",
    "        <dd>質的データである順位データに対して2つの変数の単調関係を示す</dd>\n",
    "        <dd>変数間の関係が直線でない場合に使用する。</dd>\n",
    "    <dt>量的データ</dt>\n",
    "        <dd>数値自体に意味があり、足し算や引き算ができるデータ</dd>\n",
    "        <dd>比例尺度と間隔尺度がある</dd>\n",
    "        <dd>平均値やさまざまな統計量が使用できる</dd>\n",
    "    <dt>質的データ</dt>\n",
    "        <dd>分類や種類を区分するラベルとしてのデータ</dd>\n",
    "        <dd>順序尺度と名義尺度がある</dd>\n",
    "        <dd>和、差、平均などの計算は意味をなさない</dd>\n",
    "</dl>\n",
    "\n",
    "<dl>\n",
    "    <dt>単調関係</dt>\n",
    "        <dd>一方の変数が増加するときに、もう一方の変数が増加または減少し続ける度合い</dd>\n",
    "        <dd>係数が+1であれば単勝増加、-1であれば単調減少</dd>\n",
    "</dl>\n",
    "\n"
   ]
  },
  {
   "cell_type": "markdown",
   "metadata": {},
   "source": [
    "#### ピアソンの積率相関\n",
    "\n",
    "相関係数 $r_{xy}$ は以下のように定義され、\n",
    "$$ r_{xy} = \\frac{S_{xy}}{S_xS_y} $$\n",
    "$S_x$と$S_y$はおのおの$x$と$y$の標準偏差、$S_{xy}は共分散を表し、共分散は以下の式で計算できる。\n",
    "$$ S_{xy} = \\frac{\\sum_{i=1}^{n}(x_i-\\overline{x})(y_i-\\overline{y})}{n} $$\n",
    "\n",
    "#### スピアマンの順位相関\n",
    "$$ \\rho = 1 - \\frac{6 \\sum_{i=1}^{N}D^2}{N(N^2-1)} $$\n"
   ]
  },
  {
   "cell_type": "code",
   "execution_count": 16,
   "metadata": {},
   "outputs": [
    {
     "name": "stdout",
     "output_type": "stream",
     "text": [
      "0.9999999999999998\n",
      "       deg  sales\n",
      "deg    1.0    1.0\n",
      "sales  1.0    1.0\n",
      "1.0\n",
      "       deg  sales\n",
      "deg    1.0    1.0\n",
      "sales  1.0    1.0\n",
      "0.9534625892455924\n",
      "            deg     sales\n",
      "deg    1.000000  0.953463\n",
      "sales  0.953463  1.000000\n",
      "-1.9500000000000002\n",
      "            deg     sales\n",
      "deg    1.000000  0.974679\n",
      "sales  0.974679  1.000000\n"
     ]
    },
    {
     "data": {
      "image/png": "[encoded data removed]",
      "text/plain": [
       "<Figure size 432x288 with 2 Axes>"
      ]
     },
     "metadata": {
      "needs_background": "light"
     },
     "output_type": "display_data"
    }
   ],
   "source": [
    "import pandas as pd\n",
    "import matplotlib.pyplot as plt\n",
    "import numpy as np\n",
    "\n",
    "# ピアソンの積率相関\n",
    "def pearson(std_x, std_y, s_xy):\n",
    "    r_xy = s_xy / (std_x * std_y)\n",
    "    return r_xy\n",
    "\n",
    "# スピアマンの順位相関\n",
    "def spearman(x, y):\n",
    "    x = np.array(x)\n",
    "    y = np.array(y)\n",
    "    N = len(x)\n",
    "    return 1 - (6*sum((x -y)**2) / (N*(N**2 - 1)))\n",
    "\n",
    "# 直線のデータを生成\n",
    "linear_df = pd.DataFrame([['7/1', 22, 22],['7/5', 24, 24],['7/10', 26, 26],['7/11', 28, 28],['7/12', 30, 30]])\n",
    "linear_df.columns = ['date', 'deg', 'sales']\n",
    "\n",
    "# ピアソンの相関係数を計算\n",
    "std_x = linear_df['deg'].std()\n",
    "std_y = linear_df['sales'].std()\n",
    "cov = linear_df.cov()\n",
    "line_pearson_corr = pearson(std_x, std_y, cov.loc['deg','sales'])\n",
    "print(line_pearson_corr)\n",
    "\n",
    "print(linear_df.corr())\n",
    "\n",
    "# スピアマンの相関係数を計算\n",
    "line_sp_corr = spearman(linear_df['deg'], linear_df['sales'])\n",
    "print(line_sp_corr)\n",
    "\n",
    "print(linear_df.corr(method='spearman'))\n",
    "\n",
    "\n",
    "# カーブしたデータを生成\n",
    "curv_df = pd.DataFrame([['7/1', 30, 30],['7/5', 27, 24],['7/10', 28, 24],['7/11', 29, 26],['7/12', 26, 21]])\n",
    "curv_df.columns = ['date', 'deg', 'sales']\n",
    "\n",
    "# ピアソンの相関係数を計算\n",
    "std_x = curv_df['deg'].std()\n",
    "std_y = curv_df['sales'].std()\n",
    "cov = curv_df.cov()\n",
    "curv_pearson_corr = pearson(std_x, std_y, cov.loc['deg','sales'])\n",
    "print(curv_pearson_corr)\n",
    "\n",
    "print(curv_df.corr())\n",
    "\n",
    "# スピアマンの相関係数を計算\n",
    "curv_sp_corr = spearman(curv_df['deg'], curv_df['sales'])\n",
    "print(curv_sp_corr) # ????\n",
    "\n",
    "print(curv_df.corr(method='spearman'))\n",
    "\n",
    "# 散布図をプロット\n",
    "f, (ax1, ax2) = plt.subplots(1, 2)\n",
    "\n",
    "ax1.scatter(linear_df['deg'], linear_df['sales'])\n",
    "ax2.scatter(curv_df['deg'], curv_df['sales'])\n",
    "\n",
    "plt.show()"
   ]
  }
 ],
 "metadata": {
  "interpreter": {
   "hash": "494b33afd61b71e58c5624a5377412cd33492be7501fa40bdeba7234c2a95634"
  },
  "kernelspec": {
   "display_name": "Python 3.9.12 ('myenv': venv)",
   "language": "python",
   "name": "python3"
  },
  "language_info": {
   "codemirror_mode": {
    "name": "ipython",
    "version": 3
   },
   "file_extension": ".py",
   "mimetype": "text/x-python",
   "name": "python",
   "nbconvert_exporter": "python",
   "pygments_lexer": "ipython3",
   "version": "3.9.12"
  },
  "orig_nbformat": 4
 },
 "nbformat": 4,
 "nbformat_minor": 2
}
