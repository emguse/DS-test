{
 "cells": [
  {
   "cell_type": "markdown",
   "metadata": {},
   "source": [
    "### DS9\n",
    "\n",
    "Denominator and Denominator of PCC：Pearson Correlation Coefficient"
   ]
  },
  {
   "cell_type": "markdown",
   "metadata": {},
   "source": [
    "### DS9\n",
    "\n",
    "ピアソンの積率相関係数の分母と分子"
   ]
  },
  {
   "cell_type": "markdown",
   "metadata": {},
   "source": [
    "\n",
    "#### 相関係数　（Correlation Coefficient）\n",
    "<dl>\n",
    "    <dt>相関係数</dt>\n",
    "        <dd>2つの変数が直線でモデル化できるような線形の関係性の強さを示す指標</dd>\n",
    "        <dd>-1 ~ 0 ~ 1　の実数値をとる</dd>\n",
    "        <dd>1に近い値は「強い正の相関」、0で相関なし、-1に近い値は「強い負の相関」</dd>\n",
    "</dl>\n",
    "\n"
   ]
  },
  {
   "cell_type": "markdown",
   "metadata": {},
   "source": [
    "#### 標本相関係数 (sample correlation coefficient)\n",
    "\n",
    "<dl>\n",
    "    <dt>標本相関係数 (sample correlation coefficient)</dt>\n",
    "        <dd>主に線形(linear)の相関を調べる</dd>\n",
    "        <dd>ピアソンの積率相関係数 (PCC：Pearson Correlation Coefficient)は標本相関係数</dd>\n",
    "        <dd>単に相関係数といった場合、通常はピアソンの積率相関係数を指す</dd>\n",
    "</dl>"
   ]
  },
  {
   "cell_type": "markdown",
   "metadata": {},
   "source": [
    "#### 順位相関係数 (rank correlation coefficient)\n",
    "\n",
    "<dl>\n",
    "    <dt>順位相関係数 (rank correlation coefficient)</dt>\n",
    "        <dd>非線形の相関(non-linear)や単調増加/減少関係(monotonic)の相関関係を調べる</dd>\n",
    "        <dd>スピアマンの順位相関係数 (Spearman's rank correlation coefficient)</dd>\n",
    "        <dd>ケンドールの順位相関係数 (Kendall rank correlation coefficient、Kendall's τ coefficient)</dd>\n",
    "        <dd>スピアマンの順位相関係数方がよく使われる</dd>\n",
    "</dl>\n"
   ]
  },
  {
   "cell_type": "markdown",
   "metadata": {},
   "source": [
    "#### ピアソンの積率相関\n",
    "<dl>\n",
    "    <dt>ピアソンの積率相関</dt>\n",
    "        <dd>量的データ（比例尺度、間隔尺度）のみで計算可能であり、質的データ（順序尺度、名義尺度）では計算できない</dd>\n",
    "        <dd>相関係数は-1から1までの実数を取り、相関係数が正の場合$x$が大きくなると$y$が大きくなる傾向となり、これを正の相関という。</dd>\n",
    "        <dd>反対に相関係数が負の場合$x$が大きくなると$y$が小さくなる傾向となり、これを負の相関という。</dd>\n",
    "        <dd>-1や1に近いほど強い相関がある。</dd>\n",
    "        <dd>中程度の値の場合弱い相関といい、0の時は無双感という。</dd>\n",
    "</dl>\n",
    "\n",
    "相関係数 $r_{xy}$ は以下のように定義され、\n",
    "$$ r_{xy} = \\frac{S_{xy}}{S_xS_y} $$\n",
    "$S_x$と$S_y$はおのおの$x$と$y$の標準偏差、$S_{xy}は共分散を表し、共分散は以下の式で計算できる。\n",
    "$$ S_{xy} = \\frac{\\sum_{i=1}^{n}(x_i-\\overline{x})(y_i-\\overline{y})}{n} $$"
   ]
  },
  {
   "cell_type": "markdown",
   "metadata": {},
   "source": [
    "\n",
    "#### 意味と求める方法\n",
    "\n",
    "- 「変数$x$の大きさ」は、「変数$x$の平均値からの偏差(=平均値を中心0にした場合の値、中心化した値)」\n",
    "- 「変数$y$の大きさ」は、「変数$y$の平均値からの偏差」\n",
    "\n",
    "として\n",
    "\n",
    "- （変数$x$の偏差）ｘ（変数$y$の偏差）\n",
    "\n",
    "を計算すると\n",
    "\n",
    "- 変数$x$の偏差と変数$y$の偏差がどちらも大きい\n",
    "- 符号が一致\n",
    "\n",
    "という場合は\n",
    "\n",
    "- 「大きい正の数値(正の相関)」\n",
    "\n",
    "になる。逆に、\n",
    "\n",
    "- 変数$x$の偏差と変数$y$の偏差がどちらも大きい\n",
    "- 符号が逆\n",
    "- 「大きい負の数値(負の相関)」\n",
    "\n",
    "この計算を全データに対して行って足し合わせた上でデータ数で割る（=平均する）ことで、データ全体における相関が求められる。ここまでの計算を共分散(covariance)と呼ぶ。\n"
   ]
  },
  {
   "cell_type": "markdown",
   "metadata": {},
   "source": [
    "\n",
    "#### アイスクリームの売上と1日の平均気温の例\n",
    "\n",
    "|date|7/1|7/5|7/10|7/11|7/12|\n",
    "|:-|:-|:-|:-|:-|:-|\n",
    "|deg|30|27|28|29|26|\n",
    "|sales|30|24|24|26|21|\n",
    "\n",
    "ここで、\n",
    "\n",
    "変数$x$を気温\n",
    "\n",
    "変数$y$を売上とした場合\n",
    "\n",
    "\n",
    "\n"
   ]
  },
  {
   "cell_type": "code",
   "execution_count": 1,
   "metadata": {},
   "outputs": [
    {
     "name": "stdout",
     "output_type": "stream",
     "text": [
      "       deg  sales\n",
      "deg    2.5    5.0\n",
      "sales  5.0   11.0\n",
      "標準偏差x：1.5811388300841898\n",
      "標準偏差y：3.3166247903554\n",
      "不偏共分散：5.0\n",
      "相関係数：0.9534625892455924\n"
     ]
    },
    {
     "data": {
      "text/plain": [
       "<matplotlib.collections.PathCollection at 0x11d815f70>"
      ]
     },
     "execution_count": 1,
     "metadata": {},
     "output_type": "execute_result"
    },
    {
     "data": {
      "image/png": "[encoded data removed]",
      "text/plain": [
       "<Figure size 432x288 with 1 Axes>"
      ]
     },
     "metadata": {
      "needs_background": "light"
     },
     "output_type": "display_data"
    }
   ],
   "source": [
    "import pandas as pd\n",
    "import matplotlib.pyplot as plt\n",
    "df = pd.DataFrame([['7/1', 30, 30],['7/5', 27, 24],['7/10', 28, 24],['7/11', 29, 26],['7/12', 26, 21]])\n",
    "df.columns = ['date', 'deg', 'sales']\n",
    "\n",
    "std_x = df['deg'].std()\n",
    "std_y = df['sales'].std()\n",
    "cov = df.cov()\n",
    "print(cov)\n",
    "\n",
    "s_xy = cov.loc['deg','sales']\n",
    "\n",
    "print(f'標準偏差x：{std_x}')\n",
    "print(f'標準偏差y：{std_y}')\n",
    "print(f'不偏共分散：{s_xy}')\n",
    "\n",
    "r_xy = s_xy / (std_x * std_y)\n",
    "\n",
    "print(f'相関係数：{r_xy}')\n",
    "\n",
    "plt.scatter(df['deg'], df['sales'])"
   ]
  },
  {
   "cell_type": "markdown",
   "metadata": {},
   "source": [
    "- pandasのDataFrame.cov()を用いて共分散を求めると、行列が返される。\n",
    "- Numpyのnp.cov()でも行列が返される。\n",
    "- これは分散共分散行列(variance-covariance matrix)（単に共分散行列とも呼ばれる）と呼ばれるものである。\n",
    "- np.cov() や df.cov() はn-1で割った不偏共分散と不偏分散を返す。\n",
    "\n",
    "||deg|sales|\n",
    "|:-|:-|:-|\n",
    "|deg|2.5|5.0|\n",
    "|sales|5.0|11.0|\n",
    "\n",
    "それぞれの意味は\n",
    "\n",
    "||deg|sales|\n",
    "|:-|:-|:-|\n",
    "|deg|degの不偏分散|degとsalesの不偏共分散|\n",
    "|sales|degとsalesの不偏共分散|salesの不偏分散|\n"
   ]
  }
 ],
 "metadata": {
  "interpreter": {
   "hash": "494b33afd61b71e58c5624a5377412cd33492be7501fa40bdeba7234c2a95634"
  },
  "kernelspec": {
   "display_name": "Python 3.9.12 ('myenv': venv)",
   "language": "python",
   "name": "python3"
  },
  "language_info": {
   "codemirror_mode": {
    "name": "ipython",
    "version": 3
   },
   "file_extension": ".py",
   "mimetype": "text/x-python",
   "name": "python",
   "nbconvert_exporter": "python",
   "pygments_lexer": "ipython3",
   "version": "3.9.12"
  },
  "orig_nbformat": 4
 },
 "nbformat": 4,
 "nbformat_minor": 2
}
