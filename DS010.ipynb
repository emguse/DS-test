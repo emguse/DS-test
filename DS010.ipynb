{
 "cells": [
  {
   "cell_type": "markdown",
   "metadata": {},
   "source": [
    "### DS10\n",
    "\n",
    "Typical probability distribution"
   ]
  },
  {
   "cell_type": "markdown",
   "metadata": {},
   "source": [
    "### DS10\n",
    "\n",
    "代表的な確率分布"
   ]
  },
  {
   "cell_type": "markdown",
   "metadata": {},
   "source": [
    "#### 離散型確率分布\n",
    "\n",
    "<dl>\n",
    "    <dt>離散型確率分布</dt>\n",
    "        <dd>サイコロの目や1日のメール件数のように有限個または無限個であったとしても自然数と対応づけられる離散型の確率変数が従う自然数しか取らないような離散的な確率変数の確率分布。</dd>\n",
    "    <dt>ベルヌーイ分布</dt>\n",
    "        <dd>「成功、失敗」「表、裏」など2種類のみの結果しか得られない試行の結果を、例えば0と1で表した確率分布。コインの表の出る確率などを計算できる。</dd>\n",
    "        <dd>試行結果が2通りしかない試行をベルヌーイ試行という。</dd>\n",
    "    <dt>二項分布</dt>\n",
    "        <dd>互いに独立したベルヌーイ試行をn回行った時に「コインの表がでる」といった考えている事象がx回起こる確率を表現した確率分布。コインをn回投げた時に表がx回出る確率を計算することができる。</dd>\n",
    "    <dt>ポアソン分布</dt>\n",
    "        <dd>単位時間あたりに平均λ回起こる現象が、x回起こることを表現した確率分布で、稀な現象を表現できる。1日平均1件の交通事故が起こる地域において、3日連続で交通事故が起こらない確率などを計算できる。</dd>\n",
    "</dl>"
   ]
  },
  {
   "cell_type": "markdown",
   "metadata": {},
   "source": [
    "### 連続型確率分布\n",
    "\n",
    "<dl>\n",
    "    <dt>連続型確率分布</dt>\n",
    "        <dd>確率変数が実数をとる場合の確率分布。</dd>\n",
    "    <dt>正規分布</dt>\n",
    "        <dd>平均・中央値。最頻値が一致するため、理論的に扱いやすい。身長180以上の割合などを求めることができる。</dd>\n",
    "        <dd>標本数が大きい標本平均は正規分布に従う。</dd>\n",
    "    <dt>指数分布</dt>\n",
    "        <dd>単位時間あたり平均λ回起こる現象が、次に起こるまでの期間が単位時間で測ってxであることを表現した連続型確率分布。</dd>\n",
    "        <dd>ある店で1時間平均10人くることがわかっている場合、10分以内に次の人が来る確率などを計算できる。</dd>\n",
    "    <dt>カイ二乗分布</dt>\n",
    "        <dd>互いに独立な標準正規分布に従う確率変数の2乗和が従う連続型確率分布で、、誤差の二乗和がこの分布によく従うことから、統計的検定などで利用される。</dd>\n",
    "</dl>"
   ]
  },
  {
   "cell_type": "markdown",
   "metadata": {},
   "source": [
    "### 離散型確率分布と確立質量変数\n",
    "\n",
    "<dl>\n",
    "    <dt>離散型確率変数</dt>\n",
    "        <dd>離散型確率変数xの取りうる値(x1,x2,...)それぞれに対応する確立pが存在する場合、この変数を「離散型確率変数」という。</dd>\n",
    "    <dt>離散型確率分布</dt>\n",
    "        <dd>確率変数が離散型である場合の確率分布を「離散型確率分布」という。</dd>\n",
    "</dl>\n",
    "\n",
    "<table>\n",
    "    <tr>\n",
    "        <td>X</td>\n",
    "        <td>x1</td>\n",
    "        <td>x2</td>\n",
    "        <td>・・・</td>\n",
    "        <td>$x_{n-1}$</td>\n",
    "        <td>$x_n$</td>\n",
    "    </tr>\n",
    "    <tr>\n",
    "        <td>P(X)</td>\n",
    "        <td>p1</td>\n",
    "        <td>p2</td>\n",
    "        <td>・・・</td>\n",
    "        <td>$p_{n-1}$</td>\n",
    "        <td>$p_n$</td>\n",
    "    </tr>\n",
    "</table>\n",
    "\n",
    "横軸は確率変数$X$を、縦軸は$X$の確率である$P(X)$を表す。"
   ]
  },
  {
   "cell_type": "code",
   "execution_count": 1,
   "metadata": {},
   "outputs": [
    {
     "name": "stdout",
     "output_type": "stream",
     "text": [
      "1.0\n"
     ]
    },
    {
     "data": {
      "text/plain": [
       "<BarContainer object of 6 artists>"
      ]
     },
     "execution_count": 1,
     "metadata": {},
     "output_type": "execute_result"
    },
    {
     "data": {
      "image/png": "[encoded data removed]",
      "text/plain": [
       "<Figure size 432x288 with 1 Axes>"
      ]
     },
     "metadata": {
      "needs_background": "light"
     },
     "output_type": "display_data"
    }
   ],
   "source": [
    "import matplotlib.pyplot as plt\n",
    "\n",
    "x = ['x1', 'x2', 'x3', 'x4', 'x5', 'x6']\n",
    "p_x = [0.15, 0.25, 0.12, 0.28, 0.07, 0.13]\n",
    "\n",
    "print(sum(p_x))\n",
    "\n",
    "plt.xlabel('X')\n",
    "plt.ylabel('P(X)')\n",
    "plt.bar(x, p_x)\n"
   ]
  },
  {
   "cell_type": "markdown",
   "metadata": {},
   "source": [
    "#### 確率質量関数\n",
    "\n",
    "離散型確率変数$X$がある値$x$をとる確立を関数$f(x)$とした場合、$f(x)$は「確率質量関数」と呼ばれる。\n",
    "\n",
    "$f(x)$を使うと、$X=x$（ある値$x$）となる確率は次のように表される。\n",
    "\n",
    "$$ f(x) = P(X = x) $$\n",
    "\n",
    "確率の約束として「全事象が起こる確率は1である」ため、離散型確率分布は次のように表される。\n",
    "\n",
    "$$ \\sum_{i=1}^{n}P(X=x_i)=P(X=x_1)+P(X=x_2)+\\cdots+P(X=x_n)=1 $$"
   ]
  },
  {
   "cell_type": "markdown",
   "metadata": {},
   "source": [
    "#### 二項分布　binominal distribution\n",
    "\n",
    "1回の施行に対し2種類の結果$A$,$B$が生じ、$A$が起こる確率を$p$とする。さらに、$n$回の施行において$A$が生じる回数を確率変数$X$とする。この時$X$がある値$x$となる確率は、以下の式で表される。\n",
    "\n",
    "$$ P(X=x)=_n\\mathrm{C}_xp^x(1-p)^{n-x} $$\n",
    "\n",
    "この確率関数に対する確率分布を2項分布$B(n,p)$という。$n=1$の場合の2項分布をベルヌーイ分布ともいう。2項分布の期待値$E(X)$と分散$V(X)$は以下の式で表される。\n",
    "\n",
    "$$ E(X)=np $$\n",
    "$$ V(X)=np(1-p) $$\n"
   ]
  },
  {
   "cell_type": "markdown",
   "metadata": {},
   "source": [
    "#### ポアソン分布\n",
    "\n",
    "2校分布において$n$が非常に大きく$p$が極めて稀な現象である時に従う確立分布のこと。単位時間あたりにある事象が平均してλ回起こる場合に、その事象が$x$回起こる確率は次の式から計算できる。\n",
    "\n",
    "$$ P(X=x) = \\frac{e^{-\\lambda}\\lambda^x}{x!}(x=0,1,2,\\cdots) $$\n",
    "\n",
    "この式からポアソン分布$Po(\\lambda)$の期待値を求めると\n",
    "\n",
    "$$ E[X]= \\sum_{i=0}^{n}x \\times p_i $$\n",
    "$$ = \\sum_{x=0}^{n}x \\times \\frac{e^{-\\lambda}\\lambda^x}{x!} $$\n",
    "$$ = \\sum_{x=1}^{n}x \\times \\frac{1}{x} \\times \\frac{e^{-\\lambda}\\lambda^x}{(x-1)!} $$\n",
    "$$ = \\sum_{x=1}^{n}\\frac{e^{-\\lambda}\\lambda^x}{(x-1)!} $$\n",
    "$$ = \\sum_{X=1}^{n}\\lambda \\times \\frac{e^{-\\lambda}\\lambda^{x-1}}{(x-1)!} $$\n",
    "$$ = \\lambda \\sum_{x=1}^{n}\\frac{e^{-\\lambda}\\lambda^{x-1}}{(x-1)!} $$\n",
    "ここで、$x'=x-1$とおくと\n",
    "$$ = \\lambda \\sum_{x=1}^{n}\\frac{e^{-\\lambda}\\lambda^{x-1}}{(x-1)!} $$\n",
    "$$ = \\lambda \\sum_{x'=0}^{n}\\frac{e^{-\\lambda}\\lambda^{x'}}{x'!} $$\n",
    "$\\sum_{x'=0}^{n}\\frac{e^{-\\lambda}\\lambda^{x'}}{x'!}$はポアソン分布の確率の総和であることから「1」となり、したがって、\n",
    "$$ = \\lambda \\sum_{x'=0}^{n}\\frac{e^{-\\lambda}\\lambda^{x'}}{x'!} $$\n",
    "$$ = \\lambda $$\n",
    "\n"
   ]
  },
  {
   "cell_type": "markdown",
   "metadata": {},
   "source": [
    "1時間に平均5回アクセスされるサイトが10回アクセスされる確率（$X\\sim P_o(5):ポアソン分布に従う$）\n",
    "$$ P(X=10) = \\frac{5^{10}e^{-5}}{10!} \\fallingdotseq 0.018 $$"
   ]
  },
  {
   "cell_type": "code",
   "execution_count": 2,
   "metadata": {},
   "outputs": [
    {
     "data": {
      "image/png": "[encoded data removed]",
      "text/plain": [
       "<Figure size 432x288 with 1 Axes>"
      ]
     },
     "metadata": {
      "needs_background": "light"
     },
     "output_type": "display_data"
    }
   ],
   "source": [
    "import math\n",
    "import numpy as np\n",
    "import matplotlib.pyplot as plt\n",
    "\n",
    "def poisson(lambda_, k):\n",
    "    k = int(k)\n",
    "    result = (lambda_**k) * (math.exp(-lambda_)) / math.factorial(k)\n",
    "    return result\n",
    "\n",
    "x = np.arange(1, 50, 1)\n",
    "y1 = [poisson(10, i) for i in x]\n",
    "y2 = [poisson(20, i) for i in x]\n",
    "y3 = [poisson(30, i) for i in x]\n",
    "\n",
    "plt.bar(x, y1, align=\"center\", width=0.4, color=\"red\", alpha=0.5, label=\"Poisson λ= %d\" % 10)\n",
    "plt.bar(x, y2, align=\"center\", width=0.4, color=\"green\", alpha=0.5, label=\"Poisson λ= %d\" % 20)\n",
    "plt.bar(x, y3, align=\"center\", width=0.4, color=\"blue\", alpha=0.5, label=\"Poisson λ= %d\" % 30)\n",
    "\n",
    "plt.legend()\n",
    "plt.show()"
   ]
  }
 ],
 "metadata": {
  "interpreter": {
   "hash": "494b33afd61b71e58c5624a5377412cd33492be7501fa40bdeba7234c2a95634"
  },
  "kernelspec": {
   "display_name": "Python 3.9.12 ('myenv': venv)",
   "language": "python",
   "name": "python3"
  },
  "language_info": {
   "codemirror_mode": {
    "name": "ipython",
    "version": 3
   },
   "file_extension": ".py",
   "mimetype": "text/x-python",
   "name": "python",
   "nbconvert_exporter": "python",
   "pygments_lexer": "ipython3",
   "version": "3.9.12"
  },
  "orig_nbformat": 4
 },
 "nbformat": 4,
 "nbformat_minor": 2
}
