{
 "cells": [
  {
   "cell_type": "markdown",
   "metadata": {},
   "source": [
    "### DS11\n",
    "\n",
    "Variation of binomial distribution with number of samples"
   ]
  },
  {
   "cell_type": "markdown",
   "metadata": {},
   "source": [
    "### DS11\n",
    "\n",
    "サンプル数による二項分布の変化"
   ]
  },
  {
   "cell_type": "markdown",
   "metadata": {},
   "source": [
    "<dl>\n",
    "    <dt>二項分布</dt>\n",
    "        <dd>互いに独立したベルヌーイ試行をn回行った時に「コインの表がでる」といった考えている事象がx回起こる確率を表現した確率分布。コインをn回投げた時に表がx回出る確率を計算することができる。</dd>\n",
    "</dl>\n"
   ]
  },
  {
   "cell_type": "markdown",
   "metadata": {},
   "source": [
    "#### 二項分布の確率密度関数\n",
    "\n",
    "二項分布の確率密度関数は\n",
    "\n",
    "$$ f(x) = _nC_xp^x(1-p)^{n-x} $$\n",
    "\n",
    "ここで、\n",
    "$$ p:ある事象が起こる確率 $$\n",
    "$$ n:試行回数 $$\n",
    "$$ x:確率変数 $$"
   ]
  },
  {
   "cell_type": "markdown",
   "metadata": {},
   "source": [
    "#### ベルヌーイ試行を10回、20回、50回、100回と増やした時のコインの表が出る回数\n",
    "\n"
   ]
  },
  {
   "cell_type": "code",
   "execution_count": 2,
   "metadata": {},
   "outputs": [
    {
     "name": "stdout",
     "output_type": "stream",
     "text": [
      "          10            20            50           100\n",
      "0   0.000977  9.536743e-07  8.881784e-16  7.888609e-31\n",
      "1   0.009766  1.907349e-05  4.440892e-14  7.888609e-29\n",
      "2   0.043945  1.811981e-04  1.088019e-12  3.904861e-27\n",
      "3   0.117188  1.087189e-03  1.740830e-11  1.275588e-25\n",
      "4   0.205078  4.620552e-03  2.045475e-10  3.093301e-24\n",
      "..       ...           ...           ...           ...\n",
      "95       NaN           NaN           NaN  5.939138e-23\n",
      "96       NaN           NaN           NaN  3.093301e-24\n",
      "97       NaN           NaN           NaN  1.275588e-25\n",
      "98       NaN           NaN           NaN  3.904861e-27\n",
      "99       NaN           NaN           NaN  7.888609e-29\n",
      "\n",
      "[100 rows x 4 columns]\n"
     ]
    },
    {
     "data": {
      "text/plain": [
       "<AxesSubplot:>"
      ]
     },
     "execution_count": 2,
     "metadata": {},
     "output_type": "execute_result"
    },
    {
     "data": {
      "image/png": "[encoded data removed]",
      "text/plain": [
       "<Figure size 432x288 with 1 Axes>"
      ]
     },
     "metadata": {
      "needs_background": "light"
     },
     "output_type": "display_data"
    }
   ],
   "source": [
    "import math\n",
    "import pandas as pd\n",
    "\n",
    "n = [10, 20, 50, 100] # 試行回数\n",
    "p = 0.5 # ある事象が起こる確率\n",
    "\n",
    "def combi_x(n, x):\n",
    "    combi = math.comb(n, x)\n",
    "    return combi\n",
    "\n",
    "def dist_y(n, p):\n",
    "    dist = []\n",
    "    x_list = []\n",
    "\n",
    "    for x in range(n):\n",
    "        x_list.append(x) \n",
    "        a = combi_x(n, x)\n",
    "        dist.append(combi_x(n, x)*p**x*(1-p)**(n-x))\n",
    "    return dist\n",
    "\n",
    "ans = pd.DataFrame()\n",
    "\n",
    "for x_n in n:\n",
    "    tmp = pd.Series(dist_y(x_n, p), name=f'{x_n}')\n",
    "    ans = pd.concat([ans, tmp], axis=1)\n",
    "\n",
    "print(ans)\n",
    "\n",
    "ans.plot()\n"
   ]
  }
 ],
 "metadata": {
  "interpreter": {
   "hash": "494b33afd61b71e58c5624a5377412cd33492be7501fa40bdeba7234c2a95634"
  },
  "kernelspec": {
   "display_name": "Python 3.9.12 ('myenv': venv)",
   "language": "python",
   "name": "python3"
  },
  "language_info": {
   "codemirror_mode": {
    "name": "ipython",
    "version": 3
   },
   "file_extension": ".py",
   "mimetype": "text/x-python",
   "name": "python",
   "nbconvert_exporter": "python",
   "pygments_lexer": "ipython3",
   "version": "3.9.12"
  },
  "orig_nbformat": 4
 },
 "nbformat": 4,
 "nbformat_minor": 2
}
