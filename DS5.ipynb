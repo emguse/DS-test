{
 "cells": [
  {
   "cell_type": "markdown",
   "metadata": {},
   "source": [
    "### DS5\n",
    "\n",
    "Population mean and sample averages"
   ]
  },
  {
   "cell_type": "markdown",
   "metadata": {},
   "source": [
    "### DS5\n",
    "\n",
    "母平均と標本平均\n",
    "\n",
    "|キーワード|説明|詳細|\n",
    "|:-------|:-------|:-------|\n",
    "|母集団|調査の対象となるすべてからなる集合|膨大な数になる場合があり、その場合は全体を取り扱うことが困難になる|\n",
    "|標本|母集団から抽出された一部の集合|手元にある標本を分析することで母集団の特性を推定する|\n",
    "|母平均|母集団の平均|母集団の全てを足し合わせて個数で割ったもの|\n",
    "|標本平均|標本の平均|標本を足し合わせて個数で割ったもの|\n",
    "|母分散|母集団の分散|母集団が膨大な場合直接求めることが困難|\n",
    "|標本分散|標本の分散|標本平均を用いて計算するため母分散より小さくなる傾向がある|\n",
    "|不偏分散|標本分散の誤差を修正したもの|標本分散の期待値が母分散に一致するように標本分散の算出式にn/(n-1)をかけたもの|\n",
    "\n",
    "\n",
    "$$ s^2 = \\frac{\\sum_{i=1}^{n}(x_i-\\overline{x})^2}{n-1} $$\n",
    "ここで\n",
    "$$ s^2 : 不偏分散 $$\n",
    "$$ \\overline{x} : 平均 $$\n",
    "$$ n : データの個数 $$\n",
    "$$ x_i : i番目のデータ $$"
   ]
  },
  {
   "cell_type": "code",
   "execution_count": 2,
   "metadata": {},
   "outputs": [
    {
     "data": {
      "text/plain": [
       "10.944444444444443"
      ]
     },
     "execution_count": 2,
     "metadata": {},
     "output_type": "execute_result"
    }
   ],
   "source": [
    "import statistics as stat\n",
    "\n",
    "data = [12, 3, 5, 2, 6, 7, 9, 6, 4, 11]\n",
    "\n",
    "stat.stdev(data) ** 2"
   ]
  }
 ],
 "metadata": {
  "interpreter": {
   "hash": "494b33afd61b71e58c5624a5377412cd33492be7501fa40bdeba7234c2a95634"
  },
  "kernelspec": {
   "display_name": "Python 3.9.12 ('myenv': venv)",
   "language": "python",
   "name": "python3"
  },
  "language_info": {
   "codemirror_mode": {
    "name": "ipython",
    "version": 3
   },
   "file_extension": ".py",
   "mimetype": "text/x-python",
   "name": "python",
   "nbconvert_exporter": "python",
   "pygments_lexer": "ipython3",
   "version": "3.9.12"
  },
  "orig_nbformat": 4
 },
 "nbformat": 4,
 "nbformat_minor": 2
}
