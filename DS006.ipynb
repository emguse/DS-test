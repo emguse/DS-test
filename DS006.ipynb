{
 "cells": [
  {
   "cell_type": "markdown",
   "metadata": {},
   "source": [
    "### DS6\n",
    "\n",
    "Variance and mean of the standard normal distribution"
   ]
  },
  {
   "cell_type": "markdown",
   "metadata": {},
   "source": [
    "### DS6\n",
    "\n",
    "標準正規分布の分散と平均\n",
    "\n",
    "\n",
    "正規分布とは次の式で表される連続型確率分布である。\n",
    "\n",
    "$$ f(x) = \\frac{1}{\\sqrt{2\\pi\\sigma^2}}exp\\left(-\\frac{(x-\\mu)^2}{2\\sigma^2}\\right) $$\n",
    "\n",
    "\n",
    "標準正規分布とは平均が0、分散が1の正規分布である。\n",
    "\n",
    "\n",
    "正規分布の標準化とは正規分布に従う確率変数$X$に対して次の計算を行うことであり、この変換で得られた確率変数$Z$は標準正規分布に従う。\n",
    "\n",
    "$$ Z = \\frac{(X-\\mu)}{\\sigma} $$\n",
    "\n",
    "ここで\n",
    "$$ \\mu : Xの平均 $$\n",
    "$$ \\sigma : Xの標準偏差 $$\n"
   ]
  },
  {
   "cell_type": "code",
   "execution_count": 3,
   "metadata": {},
   "outputs": [
    {
     "name": "stdout",
     "output_type": "stream",
     "text": [
      "標準偏差σ：5.355201690576289\n",
      "平均μ：170.8899871982595\n",
      "確率変数Z(180):1.7011521373269052\n"
     ]
    },
    {
     "data": {
      "image/png": "[encoded data removed]",
      "text/plain": [
       "<Figure size 432x288 with 1 Axes>"
      ]
     },
     "metadata": {
      "needs_background": "light"
     },
     "output_type": "display_data"
    }
   ],
   "source": [
    "import os\n",
    "import pandas as pd\n",
    "import matplotlib.pyplot as plt\n",
    "\n",
    "data_dir = './data/'\n",
    "path = os.path.join(data_dir, 'tall.csv')\n",
    "df = pd.read_csv(path, header=None)\n",
    "df = df.rename(columns={0:'tall'})\n",
    "\n",
    "df.plot(kind='hist')\n",
    "\n",
    "tall_std = df['tall'].std()\n",
    "tall_mean = df['tall'].mean()\n",
    "sto_var_180 = (180 - tall_mean) / (tall_std) #stochastic variable\n",
    "print(f'標準偏差σ：{tall_std}')\n",
    "print(f'平均μ：{tall_mean}')\n",
    "print(f'確率変数Z(180):{sto_var_180}')"
   ]
  },
  {
   "cell_type": "markdown",
   "metadata": {},
   "source": [
    "[tall.csv]は表計算ソフトで[NORMINV(RAND(), 171, 5.5)]として作成した身長の正規分布を模したダミーデータである。\n",
    "\n",
    "ここから、身長180cm以上の割合を求めてみると、\n",
    "\n",
    "$$ 標準偏差 \\sigma : 5.36 $$\n",
    "$$ 平均 \\mu : 170.89 $$\n",
    "\n",
    "を代入し\n",
    "\n",
    "$$ Z = \\frac{(180-170.89)}{5.36} = 1.70 $$\n",
    "\n",
    "$$ 確率変数Z(180) : 1.70 $$\n",
    "\n",
    "を求める。\n",
    "\n",
    "[標準正規分布表](https://staff.aist.go.jp/t.ihara/normsdist.html)から1.70の値を確認すると、0.044565となっており、身長180cm以上の割合は、4.45%であったことがわかる。\n",
    "\n",
    "https://staff.aist.go.jp/t.ihara/normsdist.html"
   ]
  },
  {
   "cell_type": "code",
   "execution_count": 5,
   "metadata": {},
   "outputs": [
    {
     "name": "stdout",
     "output_type": "stream",
     "text": [
      "データ件数:1199\n",
      "180以上の件数:51\n",
      "割合:4.253544620517098%\n"
     ]
    }
   ],
   "source": [
    "high = df.query('tall >= 180')\n",
    "total_count = len(df['tall'])\n",
    "high_count = len(high['tall'])\n",
    "print(f'データ件数:{total_count}')\n",
    "print(f'180以上の件数:{high_count}')\n",
    "print(f'割合:{high_count/total_count*100}%')"
   ]
  }
 ],
 "metadata": {
  "interpreter": {
   "hash": "494b33afd61b71e58c5624a5377412cd33492be7501fa40bdeba7234c2a95634"
  },
  "kernelspec": {
   "display_name": "Python 3.9.12 ('myenv': venv)",
   "language": "python",
   "name": "python3"
  },
  "language_info": {
   "codemirror_mode": {
    "name": "ipython",
    "version": 3
   },
   "file_extension": ".py",
   "mimetype": "text/x-python",
   "name": "python",
   "nbconvert_exporter": "python",
   "pygments_lexer": "ipython3",
   "version": "3.9.12"
  },
  "orig_nbformat": 4
 },
 "nbformat": 4,
 "nbformat_minor": 2
}
