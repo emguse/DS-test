{
 "cells": [
  {
   "cell_type": "markdown",
   "metadata": {},
   "source": [
    "### DS4\n",
    "\n",
    "Variance and standard deviation"
   ]
  },
  {
   "cell_type": "markdown",
   "metadata": {},
   "source": [
    "### DS4\n",
    "\n",
    "分散と標準偏差"
   ]
  },
  {
   "cell_type": "markdown",
   "metadata": {},
   "source": [
    "Variance\n",
    "\n",
    "The average of each data and the mean value subtracted, then squared and averaged.\n",
    "\n",
    "$$ s^2 = \\frac{\\sum_{i=1}^{n}(x_i-\\overline{x})^2}{n} $$"
   ]
  },
  {
   "cell_type": "markdown",
   "metadata": {},
   "source": [
    "standard deviation\n",
    "\n",
    "Square root of variance\n",
    "\n",
    "$$ s = \\sqrt{s^2} = \\sqrt{\\frac{\\sum_{i=1}^{n}(x_i-\\overline{x})^2}{n}}"
   ]
  },
  {
   "cell_type": "markdown",
   "metadata": {},
   "source": [
    "data = [7,9,10,11,13]\n",
    "\n",
    "average = 10\n",
    "\n",
    "$$ s^2 = \\frac{(7-10)^2+(9-10)^2+(10-10)^2+(11-10)^2+(13-10)^2}{5} = 4 $$\n",
    "\n",
    "$$ s = \\sqrt{4} = 4 $$\n"
   ]
  },
  {
   "cell_type": "code",
   "execution_count": 3,
   "metadata": {},
   "outputs": [
    {
     "name": "stdout",
     "output_type": "stream",
     "text": [
      "Variance : 4.0\n",
      "Deviation : 2.0\n"
     ]
    }
   ],
   "source": [
    "data = [7, 9, 10, 11, 13]\n",
    "mean_data = sum(data) / len(data)\n",
    "dev = 0\n",
    "for i in data:\n",
    "    dev += (i - mean_data) ** 2\n",
    "var = dev / len(data)\n",
    "std = var ** 0.5\n",
    "\n",
    "print(f'Variance : {var}')\n",
    "print(f'Deviation : {std}')"
   ]
  }
 ],
 "metadata": {
  "interpreter": {
   "hash": "258a73f1c669c2347e4e02ca349ba9be5513ea940fd96db1ccad27dbf575ba85"
  },
  "kernelspec": {
   "display_name": "Python 3.9.12 64-bit",
   "language": "python",
   "name": "python3"
  },
  "language_info": {
   "codemirror_mode": {
    "name": "ipython",
    "version": 3
   },
   "file_extension": ".py",
   "mimetype": "text/x-python",
   "name": "python",
   "nbconvert_exporter": "python",
   "pygments_lexer": "ipython3",
   "version": "3.9.12"
  },
  "orig_nbformat": 4
 },
 "nbformat": 4,
 "nbformat_minor": 2
}
